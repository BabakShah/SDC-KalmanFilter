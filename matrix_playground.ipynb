{
 "cells": [
  {
   "cell_type": "code",
   "execution_count": 122,
   "metadata": {},
   "outputs": [
    {
     "name": "stdout",
     "output_type": "stream",
     "text": [
      "The autoreload extension is already loaded. To reload it, use:\n",
      "  %reload_ext autoreload\n"
     ]
    }
   ],
   "source": [
    "# Run this cell but don't modify it.\n",
    "\n",
    "%load_ext autoreload\n",
    "%autoreload 2\n",
    "from matrix import Matrix, zeroes, identity\n"
   ]
  },
  {
   "cell_type": "code",
   "execution_count": 123,
   "metadata": {},
   "outputs": [
    {
     "name": "stdout",
     "output_type": "stream",
     "text": [
      "m1 is\n",
      "1  2 \n",
      "3  4 \n",
      "\n",
      "m2 is\n",
      "2  5 \n",
      "6  1 \n",
      "\n",
      "we've also provided you with a function called zeros\n",
      "here's what happens when you call zeros(4,2)\n",
      "0.0  0.0 \n",
      "0.0  0.0 \n",
      "0.0  0.0 \n",
      "0.0  0.0 \n",
      "\n",
      "we've also provided you with a function called identity\n",
      "here's identity(3)\n",
      "1.0  0.0  0.0 \n",
      "0.0  1.0  0.0 \n",
      "0.0  0.0  1.0 \n",
      "\n",
      "but not everything works yet!\n",
      "for example, matrix addition...\n",
      "run the cell below to see what happens when we try...\n"
     ]
    }
   ],
   "source": [
    "# some functionality already exists... here's a demo\n",
    "\n",
    "m1 = Matrix([\n",
    "    [1, 2],\n",
    "    [3, 4]\n",
    "])\n",
    "\n",
    "m2 = Matrix([\n",
    "    [2, 5],\n",
    "    [6, 1]\n",
    "])\n",
    "\n",
    "print(\"m1 is\")\n",
    "print(m1)\n",
    "\n",
    "print(\"m2 is\")\n",
    "print(m2)\n",
    "\n",
    "print(\"we've also provided you with a function called zeros\")\n",
    "print(\"here's what happens when you call zeros(4,2)\")\n",
    "print(zeroes(4,2))\n",
    "\n",
    "print(\"we've also provided you with a function called identity\")\n",
    "print(\"here's identity(3)\")\n",
    "print(identity(3))\n",
    "\n",
    "print(\"but not everything works yet!\")\n",
    "print(\"for example, matrix addition...\")\n",
    "print(\"run the cell below to see what happens when we try...\")"
   ]
  },
  {
   "cell_type": "code",
   "execution_count": 124,
   "metadata": {},
   "outputs": [
    {
     "name": "stdout",
     "output_type": "stream",
     "text": [
      "1  2 \n",
      "3  4 \n",
      "\n",
      "m1 + m2 is\n",
      "3  7 \n",
      "9  5 \n",
      "\n",
      "-m1 is\n",
      "-1  -2 \n",
      "-3  -4 \n",
      "\n",
      "m1 - m2 is\n",
      "-1  -3 \n",
      "-3  3 \n",
      "\n",
      "m1 * m2 is\n",
      "14  7 \n",
      "30  19 \n",
      "\n",
      "5 * m2 is\n",
      "6  15 \n",
      "18  3 \n",
      "\n",
      "-3\n",
      "1\n",
      "6\n",
      "-1.6666666666666667  0.6666666666666666 \n",
      "1.3333333333333333  -0.3333333333333333 \n",
      "\n",
      "1  4 \n",
      "2  5 \n",
      "\n"
     ]
    }
   ],
   "source": [
    "import matrix as m\n",
    "m1 = Matrix([\n",
    "    [1, 2],\n",
    "    [3, 4]\n",
    "])\n",
    "\n",
    "m2 = Matrix([\n",
    "    [2, 5],\n",
    "    [6, 1]\n",
    "])\n",
    "\n",
    "m0 = [5]\n",
    "print(m1)\n",
    "m3 = m1 + m2\n",
    "print(\"m1 + m2 is\")\n",
    "print(m3)\n",
    "\n",
    "m4 = -m1\n",
    "print(\"-m1 is\")\n",
    "print(m4)\n",
    "\n",
    "m5 = m1 - m2\n",
    "print(\"m1 - m2 is\")\n",
    "print(m5)\n",
    "\n",
    "m6 = m1 * m2\n",
    "print(\"m1 * m2 is\")\n",
    "print(m6)\n",
    "\n",
    "m7 = 3 * m2\n",
    "print(\"5 * m2 is\")\n",
    "print(m7)\n",
    "\n",
    "m11 = m.Matrix([\n",
    "        [1,2],\n",
    "        [4,5]\n",
    "        ])\n",
    "m22 = m.Matrix([\n",
    "        [1]\n",
    "        ])\n",
    "print(m11.determinant())\n",
    "print(m22.determinant())\n",
    "print(m11.trace())\n",
    "print(m11.inverse())\n",
    "print(m11.T())"
   ]
  },
  {
   "cell_type": "code",
   "execution_count": 127,
   "metadata": {},
   "outputs": [
    {
     "name": "stdout",
     "output_type": "stream",
     "text": [
      "Congratulations! All tests pass. Your Matrix class is working as expected.\n"
     ]
    }
   ],
   "source": [
    "# Try running this code. You should get an assertion error. \n",
    "# You will continue to get assertion errors until all the \n",
    "# methods in matrix.py are correctly implemented.\n",
    "\n",
    "# You can open matrix.py by selecting File > Open... \n",
    "# and then selecting matrix.py\n",
    "\n",
    "import test"
   ]
  },
  {
   "cell_type": "code",
   "execution_count": 126,
   "metadata": {
    "collapsed": true
   },
   "outputs": [],
   "source": [
    "# open matrix.py (File > Open...) and start\n",
    "# implementing matrix methods! \n",
    "\n",
    "# when your code passes all the tests you can submit by \n",
    "# pressing the SUBMIT button in the lower right corner \n",
    "# of this page."
   ]
  }
 ],
 "metadata": {
  "kernelspec": {
   "display_name": "Python 3",
   "language": "python",
   "name": "python3"
  },
  "language_info": {
   "codemirror_mode": {
    "name": "ipython",
    "version": 3
   },
   "file_extension": ".py",
   "mimetype": "text/x-python",
   "name": "python",
   "nbconvert_exporter": "python",
   "pygments_lexer": "ipython3",
   "version": "3.6.1"
  }
 },
 "nbformat": 4,
 "nbformat_minor": 2
}
